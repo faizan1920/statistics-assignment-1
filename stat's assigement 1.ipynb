{
 "cells": [
  {
   "cell_type": "code",
   "execution_count": 6,
   "id": "9147f163-5684-4d1a-a66d-e5e792c814b0",
   "metadata": {},
   "outputs": [
    {
     "name": "stdout",
     "output_type": "stream",
     "text": [
      "1Q. waht is statistics?\n",
      "\n",
      "A: In simple words statistics means Collecting, Organizing & Analyzing of a data\n"
     ]
    }
   ],
   "source": [
    "print('''1Q. waht is statistics?\n",
    "\n",
    "A: In simple words statistics means Collecting, Organizing & Analyzing of a data''')"
   ]
  },
  {
   "cell_type": "code",
   "execution_count": 11,
   "id": "34ab8765-e0cc-4fc3-a735-33960cc60c39",
   "metadata": {},
   "outputs": [
    {
     "name": "stdout",
     "output_type": "stream",
     "text": [
      "2Q. Define the different types of statistics and give an example of when each type might be used.\n",
      "\n",
      "A: There are 2 types of statistics they are,\n",
      "1. Discriptive statistics, 2. Inferential statistics\n",
      "Defination: \n",
      "1. Discriptive statistics consistes of organizing and summarizing the data\n",
      "example : avarage hights of students in the classroom by calculating the mean\n",
      "2. Inferential statistics consistes of using data you have measure to form a final conclusition\n",
      "example : heights of students in the calssroom what you expect in the whole collage in that taking out sample data and populaction data\n"
     ]
    }
   ],
   "source": [
    "print('''2Q. Define the different types of statistics and give an example of when each type might be used.\n",
    "\n",
    "A: There are 2 types of statistics they are,\n",
    "1. Discriptive statistics, 2. Inferential statistics\n",
    "Defination: \n",
    "1. Discriptive statistics consistes of organizing and summarizing the data\n",
    "example : avarage hights of students in the classroom by calculating the mean\n",
    "2. Inferential statistics consistes of using data you have measure to form a final conclusition\n",
    "example : heights of students in the calssroom what you expect in the whole collage in that taking out sample data and populaction data''')"
   ]
  },
  {
   "cell_type": "code",
   "execution_count": 10,
   "id": "465327cc-2613-4569-9580-1b6bda8e9a83",
   "metadata": {},
   "outputs": [
    {
     "name": "stdout",
     "output_type": "stream",
     "text": [
      "3Q. What are the different types of data and how do they differ from each other? Provide an example of\n",
      "each type of data?\n",
      "\n",
      "A: There are two types of data types they are : Quantitative data & Qualitative data\n",
      "1. Quantitative verible is a nuemarical verible and it can be do functions as addition, substraction, multipluction & division \n",
      "again this data type is calssifed into two types a. discreate, b. continous \n",
      "Example : a. it comes under a whole number like no. of classes in a school & no. of apples in a basket.\n",
      "          b. it involves any value including floating points and decimals points like height, weight, temperature etc.\n",
      "2. Qualitative data is an catogarical variable where we can catogarize the given data into many types\n",
      "again this data type is classifed into two types a. Nominal, b. Ordinal\n",
      "Example : a. There is no rank between them like gender, blood group etc\n",
      "          b. Here we can rank the data by givng some opctions like customers feedback = best-good-bad.\n"
     ]
    }
   ],
   "source": [
    "print('''3Q. What are the different types of data and how do they differ from each other? Provide an example of\n",
    "each type of data?\n",
    "\n",
    "A: There are two types of data types they are : Quantitative data & Qualitative data\n",
    "1. Quantitative verible is a nuemarical verible and it can be do functions as addition, substraction, multipluction & division \n",
    "again this data type is calssifed into two types a. discreate, b. continous \n",
    "Example : a. it comes under a whole number like no. of classes in a school & no. of apples in a basket.\n",
    "          b. it involves any value including floating points and decimals points like height, weight, temperature etc.\n",
    "2. Qualitative data is an catogarical variable where we can catogarize the given data into many types\n",
    "again this data type is classifed into two types a. Nominal, b. Ordinal\n",
    "Example : a. There is no rank between them like gender, blood group etc\n",
    "          b. Here we can rank the data by givng some opctions like customers feedback = best-good-bad.''')"
   ]
  },
  {
   "cell_type": "code",
   "execution_count": 1,
   "id": "40fb59a9-bd52-4bc5-8614-93f1cfee57d0",
   "metadata": {},
   "outputs": [
    {
     "name": "stdout",
     "output_type": "stream",
     "text": [
      "Q4. Categorise the following datasets with respect to quantitative and qualitative data types:\n",
      "(i) Grading in exam: A+, A, B+, B, C+, C, D, E\n",
      "(ii) Colour of mangoes: yellow, green, orange, red\n",
      "(iii) Height data of a class: [178.9, 179, 179.5, 176, 177.2, 178.3, 175.8,...]\n",
      "(iv) Number of mangoes exported by a farm: [500, 600, 478, 672, ...]\n",
      "\n",
      "A:  (i)   Nominal\n",
      "    (ii)  Ordinal\n",
      "    (iii) Continous \n",
      "    (iv)  Discreat\n"
     ]
    }
   ],
   "source": [
    "print('''Q4. Categorise the following datasets with respect to quantitative and qualitative data types:\n",
    "(i) Grading in exam: A+, A, B+, B, C+, C, D, E\n",
    "(ii) Colour of mangoes: yellow, green, orange, red\n",
    "(iii) Height data of a class: [178.9, 179, 179.5, 176, 177.2, 178.3, 175.8,...]\n",
    "(iv) Number of mangoes exported by a farm: [500, 600, 478, 672, ...]\n",
    "\n",
    "A:  (i)   Nominal\n",
    "    (ii)  Ordinal\n",
    "    (iii) Continous \n",
    "    (iv)  Discreat''')"
   ]
  },
  {
   "cell_type": "code",
   "execution_count": 2,
   "id": "41df2a07-0937-43fd-b17d-8e5bfaf21c95",
   "metadata": {},
   "outputs": [
    {
     "name": "stdout",
     "output_type": "stream",
     "text": [
      "5Q. Explain the concept of levels of measurement and give an example of a variable for each level?\n",
      "\n",
      "A: level of measurement is also called as scales of measurements there are 4 types of levels of measurement they are \n",
      "1. Nominal\n",
      "2. Ordinal\n",
      "3. Interval\n",
      "4. Ratio\n",
      "Nominal level can categorize your data by labelling them in mutually exclusive groups, but there is no order between the categories.\n",
      "ex: Gender, car brand \n",
      "Ordinal level can categorize and rank your data in an order, but you cannot say anything about the intervals between the rankings.\n",
      "ex: Biginner, intermideate, Advance.\n",
      "Interval level can categorize, rank, and infer equal intervals between neighboring data points, but there is no true zero point.\n",
      "ex: Test score, Tempurature.\n",
      "Ratio levle can categorize, rank, and infer equal intervals between neighboring data points, and there is a true zero point.\n",
      "ex: Age, weight, height\n",
      "\n"
     ]
    }
   ],
   "source": [
    "print('''5Q. Explain the concept of levels of measurement and give an example of a variable for each level?\n",
    "\n",
    "A: level of measurement is also called as scales of measurements there are 4 types of levels of measurement they are \n",
    "1. Nominal\n",
    "2. Ordinal\n",
    "3. Interval\n",
    "4. Ratio\n",
    "Nominal level can categorize your data by labelling them in mutually exclusive groups, but there is no order between the categories.\n",
    "ex: Gender, car brand \n",
    "Ordinal level can categorize and rank your data in an order, but you cannot say anything about the intervals between the rankings.\n",
    "ex: Biginner, intermideate, Advance.\n",
    "Interval level can categorize, rank, and infer equal intervals between neighboring data points, but there is no true zero point.\n",
    "ex: Test score, Tempurature.\n",
    "Ratio levle can categorize, rank, and infer equal intervals between neighboring data points, and there is a true zero point.\n",
    "ex: Age, weight, height\n",
    "''')"
   ]
  },
  {
   "cell_type": "code",
   "execution_count": 2,
   "id": "d60d50fe-acb6-4336-ad83-5e614257986a",
   "metadata": {},
   "outputs": [
    {
     "name": "stdout",
     "output_type": "stream",
     "text": [
      "6Q. Why is it important to understand the level of measurement when analyzing data? Provide an\n",
      "example to illustrate your answer?\n",
      "\n",
      "A: The second reason levels of measurement are important to know is because different statistical\n",
      "tests are appropriate for variables with different levels of measurement. \n",
      "For example, chi-square tests of independence are most appropriate for nominal level data.\n"
     ]
    }
   ],
   "source": [
    "print('''6Q. Why is it important to understand the level of measurement when analyzing data? Provide an\n",
    "example to illustrate your answer?\n",
    "\n",
    "A: The second reason levels of measurement are important to know is because different statistical\n",
    "tests are appropriate for variables with different levels of measurement. \n",
    "For example, chi-square tests of independence are most appropriate for nominal level data.''')"
   ]
  },
  {
   "cell_type": "code",
   "execution_count": 3,
   "id": "717cac09-5cbb-48a9-a1f9-12608872138f",
   "metadata": {},
   "outputs": [
    {
     "name": "stdout",
     "output_type": "stream",
     "text": [
      "Q7. How nominal data type is different from ordinal data type?\n",
      "\n",
      "A: In nominal data type there is no rank divided like Gender, Blood group.\n",
      "but in ordinal data type there is rank type like customer feedback like best,good, or bad\n"
     ]
    }
   ],
   "source": [
    "print('''Q7. How nominal data type is different from ordinal data type?\n",
    "\n",
    "A: In nominal data type there is no rank divided like Gender, Blood group.\n",
    "but in ordinal data type there is rank type like customer feedback like best,good, or bad''')\n"
   ]
  },
  {
   "cell_type": "code",
   "execution_count": 4,
   "id": "5b0a9be7-1970-40ac-b9e4-8448c2fbcb47",
   "metadata": {},
   "outputs": [
    {
     "name": "stdout",
     "output_type": "stream",
     "text": [
      "Q8. Which type of plot can be used to display data in terms of range?\n",
      "\n",
      "A: Histogram. If the groups depicted in a bar chart are actually continuous numeric ranges,\n",
      "we can push the bars together to generate a histogram. Bar lengths in histograms typically correspond to counts of data points,\n",
      "and their patterns demonstrate the distribution of variables in your data.\n"
     ]
    }
   ],
   "source": [
    "print('''Q8. Which type of plot can be used to display data in terms of range?\n",
    "\n",
    "A: Histogram. If the groups depicted in a bar chart are actually continuous numeric ranges,\n",
    "we can push the bars together to generate a histogram. Bar lengths in histograms typically correspond to counts of data points,\n",
    "and their patterns demonstrate the distribution of variables in your data.''')"
   ]
  },
  {
   "cell_type": "code",
   "execution_count": 6,
   "id": "1bfc4eb3-4e5c-4637-90d0-ce274e650253",
   "metadata": {},
   "outputs": [
    {
     "name": "stdout",
     "output_type": "stream",
     "text": [
      "Q9. Describe the difference between descriptive and inferential statistics. Give an example of each\n",
      "type of statistics and explain how they are used?\n",
      "\n",
      "A: Inferential statistics helps to compare data, make hypotheses and predictions.Descriptive statistics explains already known data related to a \n",
      "particular sample or population of a small size.Inferential statistics, however, aims to draw inferences or conclusions about a whole population.\n"
     ]
    }
   ],
   "source": [
    "print('''Q9. Describe the difference between descriptive and inferential statistics. Give an example of each\n",
    "type of statistics and explain how they are used?\n",
    "\n",
    "A: Inferential statistics helps to compare data, make hypotheses and predictions.Descriptive statistics explains already known data related to a \n",
    "particular sample or population of a small size.Inferential statistics, however, aims to draw inferences or conclusions about a whole population.''')"
   ]
  },
  {
   "cell_type": "code",
   "execution_count": 7,
   "id": "3b6666aa-bb6e-4b4c-9231-e41f34d618d8",
   "metadata": {},
   "outputs": [
    {
     "name": "stdout",
     "output_type": "stream",
     "text": [
      "Q10. What are some common measures of central tendency and variability used in statistics? Explainhow each measure can be used to describe a dataset?\n",
      "\n",
      "A: Measures of Central Tendency and Dispersion The three commonly used measures of central tendency are the mean, median, and mode. A statistic that \n",
      "tells us how the data values are dispersed or spread out is called the measure of dispersion. A simple measure of dispersion is the range.\n"
     ]
    }
   ],
   "source": [
    "print('''Q10. What are some common measures of central tendency and variability used in statistics? Explainhow each measure can be used to describe a dataset?\n",
    "\n",
    "A: Measures of Central Tendency and Dispersion The three commonly used measures of central tendency are the mean, median, and mode. A statistic that \n",
    "tells us how the data values are dispersed or spread out is called the measure of dispersion. A simple measure of dispersion is the range.''')"
   ]
  },
  {
   "cell_type": "code",
   "execution_count": null,
   "id": "c907d64c-d591-41b1-83f4-0e727b9aa663",
   "metadata": {},
   "outputs": [],
   "source": []
  }
 ],
 "metadata": {
  "kernelspec": {
   "display_name": "Python 3 (ipykernel)",
   "language": "python",
   "name": "python3"
  },
  "language_info": {
   "codemirror_mode": {
    "name": "ipython",
    "version": 3
   },
   "file_extension": ".py",
   "mimetype": "text/x-python",
   "name": "python",
   "nbconvert_exporter": "python",
   "pygments_lexer": "ipython3",
   "version": "3.10.8"
  }
 },
 "nbformat": 4,
 "nbformat_minor": 5
}
